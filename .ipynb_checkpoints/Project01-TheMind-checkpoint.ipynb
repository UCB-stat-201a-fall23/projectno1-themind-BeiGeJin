{
 "cells": [
  {
   "cell_type": "markdown",
   "id": "4f2e3179-b4ae-4243-92eb-ed8d86df7c10",
   "metadata": {
    "user_expressions": []
   },
   "source": [
    "## Project No1 - The Mind\n",
    "\n",
    "Refer to the `README.md` for further information about how to play the game and the objectives for this first project. \n",
    "\n",
    "When writing code, we recommend you to be as modular as possible. For example, if you are running multiple experiments for different choices of parameters, it may be convenient to write a function that does one experiment and then make multiple calls to the same function. Follow the _do not repeat yourself_ rule when writing code! "
   ]
  },
  {
   "cell_type": "code",
   "execution_count": 1,
   "id": "130e891e-23be-4df7-8209-9c95c8ec6852",
   "metadata": {},
   "outputs": [],
   "source": [
    "import numpy as np\n",
    "import matplotlib.pyplot as plt"
   ]
  },
  {
   "cell_type": "markdown",
   "id": "d44bf2d2-6100-47ca-a6d3-55911388bc7e",
   "metadata": {
    "user_expressions": []
   },
   "source": [
    "Let's start by creating a function that generates one sample of the game. Feel free to change this code as you find it suitable, for example by changing how the sampling is created or if you want to sample cards with replacement (this could be useful for the last questions)."
   ]
  },
  {
   "cell_type": "code",
   "execution_count": 2,
   "id": "e4c2b253-1621-459a-ba5a-a76d6f46a64b",
   "metadata": {},
   "outputs": [],
   "source": [
    "def sample_cards(N, n, k):\n",
    "    \"\"\"\n",
    "    Generates a simulated sample of how the cards are shuffled among players. \n",
    "    \n",
    "    Arguments: \n",
    "        - N : Total number of cards\n",
    "        - n : Number of players\n",
    "        - k : Number of cards per player\n",
    "        \n",
    "    Returns: \n",
    "        - 2D numpy array where each row represent each player and each column their card in ascending order. \n",
    "    \"\"\"\n",
    "    \n",
    "    assert n * k <= N, \"There are not enough cards for all the players!\"\n",
    "    \n",
    "    _cards = np.random.choice(a=np.arange(1, N+1), size=n*k, replace=False)\n",
    "    _cards = _cards.reshape(n,k)\n",
    "    _cards.sort(axis=1)\n",
    "    return _cards"
   ]
  },
  {
   "cell_type": "markdown",
   "id": "efee53b7-0463-4c51-b106-e5d26fdc5a7e",
   "metadata": {
    "user_expressions": []
   },
   "source": [
    "Now we can just generate how cards are distributed among players by simply making a call to this function with the desired parameters. "
   ]
  },
  {
   "cell_type": "code",
   "execution_count": 3,
   "id": "1331d9b0-e485-4417-8c7d-4ce407c6e693",
   "metadata": {},
   "outputs": [
    {
     "data": {
      "text/plain": [
       "array([[16, 49, 88],\n",
       "       [47, 79, 83],\n",
       "       [11, 50, 56],\n",
       "       [26, 41, 59],\n",
       "       [10, 51, 92],\n",
       "       [19, 54, 72]])"
      ]
     },
     "execution_count": 3,
     "metadata": {},
     "output_type": "execute_result"
    }
   ],
   "source": [
    "cards = sample_cards(100, 6, 3)\n",
    "cards"
   ]
  },
  {
   "cell_type": "markdown",
   "id": "2f7cfb3b-b3bc-4064-92a4-35e96df2847d",
   "metadata": {
    "user_expressions": []
   },
   "source": [
    "and access the cards of each player with "
   ]
  },
  {
   "cell_type": "code",
   "execution_count": 4,
   "id": "36f4998e-61e0-4acd-b292-b447a0d6a8ed",
   "metadata": {},
   "outputs": [
    {
     "data": {
      "text/plain": [
       "(array([16, 49, 88]), array([47, 79, 83]))"
      ]
     },
     "execution_count": 4,
     "metadata": {},
     "output_type": "execute_result"
    }
   ],
   "source": [
    "player0 = cards[0,:]\n",
    "player1 = cards[1,:]\n",
    "player0, player1"
   ]
  },
  {
   "cell_type": "markdown",
   "id": "08d9de1a-3dc6-49ba-b08c-dba034839906",
   "metadata": {
    "user_expressions": []
   },
   "source": [
    "The lowest card in the game is"
   ]
  },
  {
   "cell_type": "code",
   "execution_count": 5,
   "id": "f2e54641-0ec3-4451-b8b3-371580ede9b7",
   "metadata": {},
   "outputs": [
    {
     "data": {
      "text/plain": [
       "10"
      ]
     },
     "execution_count": 5,
     "metadata": {},
     "output_type": "execute_result"
    }
   ],
   "source": [
    "np.min(cards)"
   ]
  },
  {
   "cell_type": "code",
   "execution_count": 6,
   "id": "2f4766c6-7334-4d24-a0b5-20e5bfd44a63",
   "metadata": {},
   "outputs": [
    {
     "data": {
      "text/plain": [
       "array([1, 2, 3, 4])"
      ]
     },
     "execution_count": 6,
     "metadata": {},
     "output_type": "execute_result"
    }
   ],
   "source": [
    "np.arange(1, 5)"
   ]
  },
  {
   "cell_type": "markdown",
   "id": "755260c8-4ec3-49ed-a783-99629dd51cb8",
   "metadata": {
    "user_expressions": []
   },
   "source": [
    "### 1. What is the distribution of the lowest number? \n",
    "\n",
    "Repeat the sampling of the cards multiple times for the same choice of `N`, `n` and `k` and plot the distribution of the lowest number in the sample. Use an [histogram](https://matplotlib.org/stable/api/_as_gen/matplotlib.pyplot.hist.html) to plot the distribution and set the bins to be the available integer number cards. "
   ]
  },
  {
   "cell_type": "code",
   "execution_count": 7,
   "id": "12fe9c17-000b-472a-8380-915f6dfda5df",
   "metadata": {},
   "outputs": [
    {
     "data": {
      "image/png": "[encoded data removed]",
      "text/plain": [
       "<Figure size 640x480 with 1 Axes>"
      ]
     },
     "metadata": {},
     "output_type": "display_data"
    }
   ],
   "source": [
    "# To Do cell\n",
    "lst_cards = []\n",
    "simu_times = 1000\n",
    "for i in range(simu_times):\n",
    "    cards = sample_cards(100,6,3)\n",
    "    lst_card = np.min(cards)\n",
    "    lst_cards.append(lst_card)\n",
    "plt.hist(lst_cards, bins = np.arange(0,35,1))\n",
    "plt.show()"
   ]
  },
  {
   "cell_type": "markdown",
   "id": "b9b63c3c-5cd0-4090-910b-06ded98c5497",
   "metadata": {
    "user_expressions": []
   },
   "source": [
    "### 2. What is the distribution of the largest gap?\n",
    "\n",
    "For each simulation, found the largest distance between consecutive numbers in the game. To make this easy, let us first consider the largest gap among the pool of **all** the cards among players (if the largest gap is happening in the hand of one single player, that is ok). This will make the analysis more simple. "
   ]
  },
  {
   "cell_type": "code",
   "execution_count": 8,
   "id": "96095727-fa79-4b25-a2d9-900302fd5f5b",
   "metadata": {},
   "outputs": [
    {
     "data": {
      "image/png": "[encoded data removed]",
      "text/plain": [
       "<Figure size 640x480 with 1 Axes>"
      ]
     },
     "metadata": {},
     "output_type": "display_data"
    }
   ],
   "source": [
    "# To Do cell\n",
    "simu_times = 1000\n",
    "n_player = 6\n",
    "n_card = 3\n",
    "max_gaps = []\n",
    "for i in range(simu_times):\n",
    "    cards = sample_cards(100,n_player,n_card)\n",
    "    sorted_cards = np.sort(cards.flatten())\n",
    "    max_gap = np.max(np.diff(sorted_cards))\n",
    "    max_gaps.append(max_gap)\n",
    "plt.hist(max_gaps, bins=np.arange(0,40,1))\n",
    "plt.show()"
   ]
  },
  {
   "cell_type": "markdown",
   "id": "6c0d3228-b157-4b86-a28a-1e5dc629a17c",
   "metadata": {
    "user_expressions": []
   },
   "source": [
    "Repeat the experiment but know compute the largest gap between cards of different players. This is the gap that actually matters for the purposes of the game: what is the maximum number of numbers that a player will have to wait before playing the next card?"
   ]
  },
  {
   "cell_type": "code",
   "execution_count": 9,
   "id": "18350078-bd01-4734-a29b-43d3c99428db",
   "metadata": {},
   "outputs": [
    {
     "data": {
      "image/png": "[encoded data removed]",
      "text/plain": [
       "<Figure size 640x480 with 1 Axes>"
      ]
     },
     "metadata": {},
     "output_type": "display_data"
    }
   ],
   "source": [
    "# To Do cell\n",
    "simu_times = 1000\n",
    "n_player = 6\n",
    "n_card = 3\n",
    "valid_max_gaps = []\n",
    "\n",
    "for i in range(simu_times):\n",
    "    \n",
    "    # sample cards and flatten\n",
    "    cards = sample_cards(100,n_player,n_card)\n",
    "    flatten_cards = cards.flatten()\n",
    "    cards_player = np.repeat(np.arange(n_player),n_card)\n",
    "    \n",
    "    # sort cards as well as players\n",
    "    cards_idx = list(zip(flatten_cards.tolist(), cards_player.tolist()))\n",
    "    cards_idx.sort(key = lambda x:x[0])\n",
    "    cards_sorted = [x[0] for x in cards_idx]\n",
    "    idx_sorted = [x[1] for x in cards_idx]\n",
    "    \n",
    "    # rule out those gaps from the same players\n",
    "    cards_diff = np.diff(cards_sorted)\n",
    "    idx_diff = np.diff(idx_sorted)\n",
    "    valid_cards_diff = cards_diff[idx_diff != 0]\n",
    "    \n",
    "    # calculate valid max gap\n",
    "    valid_max_gap = np.max(valid_cards_diff)\n",
    "    valid_max_gaps.append(valid_max_gap)\n",
    "\n",
    "plt.hist(valid_max_gaps, bins=np.arange(0,40,1))\n",
    "plt.show()"
   ]
  },
  {
   "cell_type": "markdown",
   "id": "83eec022-7bd7-4f89-b721-a337672007f3",
   "metadata": {
    "user_expressions": []
   },
   "source": [
    "How does these compare? Run simulations for different choices of the number of cards and players and see when the difference between these two is larger. \n",
    "\n",
    "Compute the mean of the two distributions. When this difference is larger? How does this depends of the total number of players `n`?"
   ]
  },
  {
   "cell_type": "code",
   "execution_count": 10,
   "id": "6a4902de-b21e-4780-a49f-6a821fe24bb4",
   "metadata": {
    "user_expressions": []
   },
   "outputs": [],
   "source": [
    "def get_max_gap(cards):\n",
    "    \n",
    "    sorted_cards = np.sort(cards.flatten())\n",
    "    max_gap = np.max(np.diff(sorted_cards))\n",
    "    \n",
    "    return max_gap"
   ]
  },
  {
   "cell_type": "code",
   "execution_count": 11,
   "id": "b1a8d960-bd73-43ed-b1e8-588e6d5f6576",
   "metadata": {
    "user_expressions": []
   },
   "outputs": [],
   "source": [
    "def get_valid_max_gap(cards):\n",
    "    \n",
    "    # sample cards and flatten\n",
    "    \n",
    "    flatten_cards = cards.flatten()\n",
    "    n, k = cards.shape\n",
    "    cards_player = np.repeat(np.arange(n),k)\n",
    "\n",
    "    # sort cards as well as players\n",
    "    cards_idx = list(zip(flatten_cards.tolist(), cards_player.tolist()))\n",
    "    cards_idx.sort(key = lambda x:x[0])\n",
    "    cards_sorted = [x[0] for x in cards_idx]\n",
    "    idx_sorted = [x[1] for x in cards_idx]\n",
    "\n",
    "    # rule out those gaps from the same players\n",
    "    cards_diff = np.diff(cards_sorted)\n",
    "    idx_diff = np.diff(idx_sorted)\n",
    "    valid_cards_diff = cards_diff[idx_diff != 0]\n",
    "    \n",
    "    # calculate valid max gap\n",
    "    valid_max_gap = np.max(valid_cards_diff)\n",
    "\n",
    "    return valid_max_gap"
   ]
  },
  {
   "cell_type": "code",
   "execution_count": 12,
   "id": "54089985-9332-48c2-9524-047019600abd",
   "metadata": {
    "user_expressions": []
   },
   "outputs": [
    {
     "data": {
      "image/png": "[encoded data removed]",
      "text/plain": [
       "<Figure size 500x500 with 1 Axes>"
      ]
     },
     "metadata": {},
     "output_type": "display_data"
    }
   ],
   "source": [
    "simu_times = 1000\n",
    "N = 100\n",
    "n = 6\n",
    "k = 3\n",
    "max_gaps = []\n",
    "valid_max_gaps = []\n",
    "for i in range(simu_times):\n",
    "    cards = sample_cards(N,n,k)\n",
    "    this_max_gap = get_max_gap(cards)\n",
    "    this_valid_max_gap = get_valid_max_gap(cards)\n",
    "    max_gaps.append(this_max_gap)\n",
    "    valid_max_gaps.append(this_valid_max_gap)\n",
    "\n",
    "plt.subplots(figsize=(5,5))\n",
    "plt.scatter(x = max_gaps, y = valid_max_gaps)\n",
    "plt.xticks(np.arange(0,45,5))\n",
    "plt.yticks(np.arange(0,45,5))\n",
    "plt.xlabel(\"Max gap\")\n",
    "plt.ylabel(\"Max gap from different players\")\n",
    "plt.show()"
   ]
  },
  {
   "cell_type": "code",
   "execution_count": 13,
   "id": "af0e0d83-9b2d-4af4-9eb6-9ad08881f498",
   "metadata": {
    "user_expressions": []
   },
   "outputs": [],
   "source": [
    "def get_max_gaps(simu_times, n_player, n_card):\n",
    "    \n",
    "    max_gaps = []\n",
    "\n",
    "    for i in range(simu_times):\n",
    "        cards = sample_cards(100,n_player,n_card)\n",
    "        sorted_cards = np.sort(cards.flatten())\n",
    "        max_gap = np.max(np.diff(sorted_cards))\n",
    "        max_gaps.append(max_gap)\n",
    "    \n",
    "    return max_gaps"
   ]
  },
  {
   "cell_type": "code",
   "execution_count": 14,
   "id": "8a1bace7-36d4-476b-80cc-d4a07d47c8fb",
   "metadata": {
    "user_expressions": []
   },
   "outputs": [],
   "source": [
    "def get_valid_max_gaps(simu_times, n_player, n_card):\n",
    "    \n",
    "    valid_max_gaps = []\n",
    "\n",
    "    for i in range(simu_times):\n",
    "\n",
    "        # sample cards and flatten\n",
    "        cards = sample_cards(100,n_player,n_card)\n",
    "        flatten_cards = cards.flatten()\n",
    "        cards_player = np.repeat(np.arange(n_player),n_card)\n",
    "\n",
    "        # sort cards as well as players\n",
    "        cards_idx = list(zip(flatten_cards.tolist(), cards_player.tolist()))\n",
    "        cards_idx.sort(key = lambda x:x[0])\n",
    "        cards_sorted = [x[0] for x in cards_idx]\n",
    "        idx_sorted = [x[1] for x in cards_idx]\n",
    "\n",
    "        # rule out those gaps from the same players\n",
    "        cards_diff = np.diff(cards_sorted)\n",
    "        idx_diff = np.diff(idx_sorted)\n",
    "        valid_cards_diff = cards_diff[idx_diff != 0]\n",
    "\n",
    "        # calculate valid max gap\n",
    "        valid_max_gap = np.max(valid_cards_diff)\n",
    "        valid_max_gaps.append(valid_max_gap)\n",
    "\n",
    "    return valid_max_gaps"
   ]
  },
  {
   "cell_type": "code",
   "execution_count": 15,
   "id": "7ba4b2be-954c-4515-9537-3dcfecc5cfe1",
   "metadata": {},
   "outputs": [
    {
     "data": {
      "image/png": "[encoded data removed]",
      "text/plain": [
       "<Figure size 640x480 with 1 Axes>"
      ]
     },
     "metadata": {},
     "output_type": "display_data"
    }
   ],
   "source": [
    "# test n\n",
    "n_test = []\n",
    "n_max_gaps = []\n",
    "n_valid_max_gaps = []\n",
    "\n",
    "for n in range(1,15):\n",
    "    this_max_gap = np.mean(get_max_gaps(1000, 6, n))\n",
    "    this_valid_max_gap = np.mean(get_valid_max_gaps(1000, 6, n))\n",
    "    res = this_max_gap - this_valid_max_gap\n",
    "    \n",
    "    n_test.append(res)\n",
    "    n_max_gaps.append(this_max_gap)\n",
    "    n_valid_max_gaps.append(this_valid_max_gap)\n",
    "\n",
    "plt.plot(np.arange(1,15), n_max_gaps, label='mean of max gap')\n",
    "plt.plot(np.arange(1,15), n_valid_max_gaps, label='mean of max gap from different players')\n",
    "plt.xlabel('n')\n",
    "plt.legend()\n",
    "plt.show()"
   ]
  },
  {
   "cell_type": "code",
   "execution_count": 16,
   "id": "8f561ba6-bde1-4601-a674-ef58e633502f",
   "metadata": {},
   "outputs": [
    {
     "data": {
      "image/png": "[encoded data removed]",
      "text/plain": [
       "<Figure size 640x480 with 1 Axes>"
      ]
     },
     "metadata": {},
     "output_type": "display_data"
    }
   ],
   "source": [
    "k_test = []\n",
    "k_max_gaps = []\n",
    "k_valid_max_gaps = []\n",
    "\n",
    "for k in range(3,15):\n",
    "    this_max_gap = np.mean(get_max_gaps(1000, k, 3))\n",
    "    this_valid_max_gap = np.mean(get_valid_max_gaps(1000, k, 3))\n",
    "    res = this_max_gap - this_valid_max_gap\n",
    "    \n",
    "    k_test.append(res)\n",
    "    k_max_gaps.append(this_max_gap)\n",
    "    k_valid_max_gaps.append(this_valid_max_gap)\n",
    "\n",
    "plt.plot(np.arange(3,15), k_max_gaps, label='mean of max gap')\n",
    "plt.plot(np.arange(3,15), k_valid_max_gaps, label='mean of max gap from different players')\n",
    "plt.xlabel('k')\n",
    "plt.legend()\n",
    "plt.show()"
   ]
  },
  {
   "cell_type": "markdown",
   "id": "c14b7f5b-23b7-4a73-b67b-8d4433fae9e2",
   "metadata": {
    "user_expressions": []
   },
   "source": [
    "### 3. Deriving distributions\n",
    "\n",
    "For this section, we are going to use the random sampling generating process from _The Mind_ to investigate and find some familiar distributions."
   ]
  },
  {
   "cell_type": "markdown",
   "id": "366396c5-7a5f-461c-a86e-0a5b528e3791",
   "metadata": {
    "user_expressions": []
   },
   "source": [
    "### 3.1. Binomial Distribution \n",
    "\n",
    "Can you think about any way of deriving the binomial distribution? Based on the output of one single game (function `sample_game()`), try to derive something that has Binomial distribution for certain parameter $p$. Run multiple simulations to see this and compare the obtained empirical distribution with the distribution of the binomial distribution (check `numpy.random.binomial` and `scipy.stats.binom`). "
   ]
  },
  {
   "cell_type": "code",
   "execution_count": 17,
   "id": "ed356712-c37c-42f9-8562-83c13ffc009e",
   "metadata": {},
   "outputs": [],
   "source": [
    "# change the sample_cards function to allow replacement\n",
    "def sample_cards_rep(N, n, k):\n",
    "    \"\"\"\n",
    "    Generates a simulated sample of how the cards are shuffled among players. \n",
    "    \n",
    "    Arguments: \n",
    "        - N : Total number of cards\n",
    "        - n : Number of players\n",
    "        - k : Number of cards per player\n",
    "        \n",
    "    Returns: \n",
    "        - 2D numpy array where each row represent each player and each column their card in ascending order. \n",
    "    \"\"\"\n",
    "    \n",
    "    assert n * k <= N, \"There are not enough cards for all the players!\"\n",
    "    \n",
    "    _cards = np.random.choice(a=np.arange(1, N+1), size=n*k, replace=True)\n",
    "    _cards = _cards.reshape(n,k)\n",
    "    _cards.sort(axis=1)\n",
    "    return _cards"
   ]
  },
  {
   "cell_type": "code",
   "execution_count": 18,
   "id": "008ddb23-1549-4cd5-80cf-eeceef60f844",
   "metadata": {},
   "outputs": [
    {
     "ename": "NameError",
     "evalue": "name 'sns' is not defined",
     "output_type": "error",
     "traceback": [
      "\u001b[0;31m---------------------------------------------------------------------------\u001b[0m",
      "\u001b[0;31mNameError\u001b[0m                                 Traceback (most recent call last)",
      "Cell \u001b[0;32mIn[18], line 13\u001b[0m\n\u001b[1;32m     11\u001b[0m \u001b[38;5;66;03m# plot against theoretical binomial distribution\u001b[39;00m\n\u001b[1;32m     12\u001b[0m fig, ax \u001b[38;5;241m=\u001b[39m plt\u001b[38;5;241m.\u001b[39msubplots(\u001b[38;5;241m1\u001b[39m,\u001b[38;5;241m1\u001b[39m)\n\u001b[0;32m---> 13\u001b[0m \u001b[43msns\u001b[49m\u001b[38;5;241m.\u001b[39mhistplot(x\u001b[38;5;241m=\u001b[39mthetas, bins\u001b[38;5;241m=\u001b[39mnp\u001b[38;5;241m.\u001b[39marange(\u001b[38;5;241m-\u001b[39m\u001b[38;5;241m0.5\u001b[39m,\u001b[38;5;241m18.5\u001b[39m), stat\u001b[38;5;241m=\u001b[39m\u001b[38;5;124m'\u001b[39m\u001b[38;5;124mprobability\u001b[39m\u001b[38;5;124m'\u001b[39m, alpha\u001b[38;5;241m=\u001b[39m\u001b[38;5;241m0.5\u001b[39m, label\u001b[38;5;241m=\u001b[39m\u001b[38;5;124m'\u001b[39m\u001b[38;5;124mtheta\u001b[39m\u001b[38;5;124m'\u001b[39m)\n\u001b[1;32m     14\u001b[0m ax\u001b[38;5;241m.\u001b[39mplot(np\u001b[38;5;241m.\u001b[39marange(\u001b[38;5;241m0\u001b[39m,\u001b[38;5;241m19\u001b[39m), binom\u001b[38;5;241m.\u001b[39mpmf(np\u001b[38;5;241m.\u001b[39marange(\u001b[38;5;241m0\u001b[39m,\u001b[38;5;241m19\u001b[39m),\u001b[38;5;241m18\u001b[39m,\u001b[38;5;241m0.5\u001b[39m),\u001b[38;5;124m'\u001b[39m\u001b[38;5;124mr-\u001b[39m\u001b[38;5;124m'\u001b[39m, lw\u001b[38;5;241m=\u001b[39m\u001b[38;5;241m3\u001b[39m, alpha\u001b[38;5;241m=\u001b[39m\u001b[38;5;241m0.6\u001b[39m, label\u001b[38;5;241m=\u001b[39m\u001b[38;5;124m'\u001b[39m\u001b[38;5;124mbinom pmf\u001b[39m\u001b[38;5;124m'\u001b[39m)\n\u001b[1;32m     15\u001b[0m plt\u001b[38;5;241m.\u001b[39mxticks(np\u001b[38;5;241m.\u001b[39marange(\u001b[38;5;241m0\u001b[39m,\u001b[38;5;241m19\u001b[39m))\n",
      "\u001b[0;31mNameError\u001b[0m: name 'sns' is not defined"
     ]
    },
    {
     "data": {
      "image/png": "[encoded data removed]",
      "text/plain": [
       "<Figure size 640x480 with 1 Axes>"
      ]
     },
     "metadata": {},
     "output_type": "display_data"
    }
   ],
   "source": [
    "from scipy.stats import binom\n",
    "\n",
    "# the number of cards that are > 50, theta, follows a binomial distribution of Binom(18,0.5)\n",
    "thetas = []\n",
    "n_simu = 10000\n",
    "for _ in range(n_simu):\n",
    "    cards = sample_cards_rep(100,6,3)\n",
    "    theta = np.sum(cards > 50)\n",
    "    thetas.append(theta)\n",
    "\n",
    "# plot against theoretical binomial distribution\n",
    "fig, ax = plt.subplots(1,1)\n",
    "sns.histplot(x=thetas, bins=np.arange(-0.5,18.5), stat='probability', alpha=0.5, label='theta')\n",
    "ax.plot(np.arange(0,19), binom.pmf(np.arange(0,19),18,0.5),'r-', lw=3, alpha=0.6, label='binom pmf')\n",
    "plt.xticks(np.arange(0,19))\n",
    "plt.legend()\n",
    "plt.show()"
   ]
  },
  {
   "cell_type": "markdown",
   "id": "4fd361e5-2c9c-4c78-9987-d73833be1f19",
   "metadata": {
    "user_expressions": []
   },
   "source": [
    "### 3.2. Beta Distribution\n",
    "\n",
    "The [order statistics](https://en.wikipedia.org/wiki/Order_statistic) of the uniform distribution are such that follow a Beta distribution. If well here we are not exactly sampling real numbers in $[0,1]$ following the uniform distribution, you can imagine that sampling one single number without repetition from $\\{ 1, 2, 3, \\ldots, N \\}$ is not very different...\n",
    "\n",
    "Compare the distribution of the lowest number in the sample (Part 1) with a [Beta distribution](https://en.wikipedia.org/wiki/Beta_distribution) with adequate choices of parameters. In order to do this, notice that the $k$th order statistics of a sample of $n$ uniformly distributed points in $[0,1]$ is $\\text{Beta}(k, n+1-k)$ (These $n$ and $k$ are not the same as before, you need to pick the right values of these)."
   ]
  },
  {
   "cell_type": "code",
   "execution_count": null,
   "id": "1554f5a3-670a-4bd4-9146-5994e634d3b6",
   "metadata": {},
   "outputs": [],
   "source": [
    "# To Do cell\n",
    "from scipy.stats import beta\n",
    "import seaborn as sns\n",
    "\n",
    "# sampling the min\n",
    "mins = []\n",
    "n_simu = 10000\n",
    "for _ in range(n_simu):\n",
    "    cards = sample_cards(100, 6, 3)\n",
    "    this_min = np.min(cards)\n",
    "    mins.append(this_min)\n",
    "\n",
    "# plot against theoretical beta distribution\n",
    "fig, ax = plt.subplots(1, 1)\n",
    "sns.histplot(x=mins, bins=np.arange(0.5,40.5,1), stat='density', alpha=0.5, label='Min')\n",
    "ax.plot(np.arange(1,41), beta.pdf(np.arange(1,41), 1, 18, loc=1, scale=99), 'r-', lw=3, alpha=0.6, label='beta pdf')\n",
    "# betas = beta.cdf(np.arange(1.5,40.5), 1, 18, loc=1, scale=99) - beta.cdf(np.arange(0.5,39.5), 1, 18, loc=1, scale=99)\n",
    "# ax.plot(np.arange(1,40), betas, 'r-', lw=3, alpha=0.6, label='beta pdf')\n",
    "plt.legend()\n",
    "plt.show()"
   ]
  },
  {
   "cell_type": "markdown",
   "id": "5bc7456e-e4f1-48af-92ef-cbe4177f9871",
   "metadata": {
    "user_expressions": []
   },
   "source": [
    "### 3.3. Exponential Distribution\n",
    "\n",
    "If we call $U_1$ the minimum number in the sample (Part 1), then make an histogram with the distribution of the transformed random variable given by \n",
    "$$\n",
    "X = - \\ln \\left( 1 - \\frac{U_1}{N} \\right)\n",
    "$$\n",
    "and compare this with the distribution of an exponential random variable with parameter $nk$, the total number of cards in the game. "
   ]
  },
  {
   "cell_type": "code",
   "execution_count": null,
   "id": "44a6bd20-02c1-47f1-8dcb-65966b89ea97",
   "metadata": {},
   "outputs": [],
   "source": [
    "# To Do cell\n",
    "from scipy.stats import expon\n",
    "\n",
    "# calculate X\n",
    "Xs = -np.log(1-np.array(mins)/100)\n",
    "\n",
    "# plot against theoretical exponential distribution\n",
    "nk = 18\n",
    "fig, ax = plt.subplots(1, 1)\n",
    "sns.histplot(Xs, bins=np.arange(0.005,0.995,0.01), stat='density', alpha=0.5, label='X')\n",
    "ax.plot(np.arange(0.01,1,0.01), expon.pdf(np.arange(0.01,1,0.01), scale=1/nk),'r-', lw=3, alpha=0.6, label='exp pdf')\n",
    "plt.legend()\n",
    "plt.show()"
   ]
  },
  {
   "cell_type": "markdown",
   "id": "0ad19b6e-5603-4b66-b379-6b79f5aaedf6",
   "metadata": {
    "user_expressions": []
   },
   "source": [
    "### 4. What happens when $n * k << N$?\n",
    "\n",
    "Some of the distribution we saw in previous sections are just approximate. Study what happens when we increase the number of cards. Try to understand how the cases of sampling with and without reposition compare as $n * k << N$. What do you expect to see in these cases? When the difference between the two sampling strategies will lead to similar or different results. "
   ]
  },
  {
   "cell_type": "code",
   "execution_count": null,
   "id": "bad3cabc-f8bc-482e-ac6c-1d684dce5eed",
   "metadata": {},
   "outputs": [],
   "source": [
    "N = 1000"
   ]
  },
  {
   "cell_type": "code",
   "execution_count": null,
   "id": "62275df9-6d41-43d1-bbbf-1f0077bd6ffd",
   "metadata": {},
   "outputs": [],
   "source": [
    "# Binomial, without reposition\n",
    "from scipy.stats import binom\n",
    "\n",
    "# the number of cards that are > N/2, theta, follows a binomial distribution of Binom(18,0.5)\n",
    "thetas = []\n",
    "n_simu = 10000\n",
    "for _ in range(n_simu):\n",
    "    cards = sample_cards(N,6,3)\n",
    "    theta = np.sum(cards > N/2)\n",
    "    thetas.append(theta)\n",
    "\n",
    "# plot against theoretical binomial distribution\n",
    "fig, ax = plt.subplots(1,1)\n",
    "sns.histplot(x=thetas, bins=np.arange(-0.5,18.5), stat='probability', alpha=0.5, label='theta')\n",
    "ax.plot(np.arange(0,19), binom.pmf(np.arange(0,19),18,0.5),'r-', lw=3, alpha=0.6, label='binom pmf')\n",
    "plt.xticks(np.arange(0,19))\n",
    "plt.legend()\n",
    "plt.show()"
   ]
  },
  {
   "cell_type": "code",
   "execution_count": null,
   "id": "dadad87f-d45e-4a7e-965a-ec0515a35d0f",
   "metadata": {},
   "outputs": [],
   "source": [
    "# Binomial, with reposition\n",
    "from scipy.stats import binom\n",
    "\n",
    "# the number of cards that are > N/2, theta, follows a binomial distribution of Binom(18,0.5)\n",
    "thetas = []\n",
    "n_simu = 10000\n",
    "for _ in range(n_simu):\n",
    "    cards = sample_cards_rep(N,6,3)\n",
    "    theta = np.sum(cards > N/2)\n",
    "    thetas.append(theta)\n",
    "\n",
    "# plot against theoretical binomial distribution\n",
    "fig, ax = plt.subplots(1,1)\n",
    "sns.histplot(x=thetas, bins=np.arange(-0.5,18.5), stat='probability', alpha=0.5, label='theta')\n",
    "ax.plot(np.arange(0,19), binom.pmf(np.arange(0,19),18,0.5),'r-', lw=3, alpha=0.6, label='binom pmf')\n",
    "plt.xticks(np.arange(0,19))\n",
    "plt.legend()\n",
    "plt.show()"
   ]
  },
  {
   "cell_type": "code",
   "execution_count": null,
   "id": "7545dc32-1393-4641-963b-feff5c7cfd71",
   "metadata": {},
   "outputs": [],
   "source": [
    "# Beta, without reposition\n",
    "from scipy.stats import beta\n",
    "import seaborn as sns\n",
    "\n",
    "# sampling the min\n",
    "mins = []\n",
    "n_simu = 10000\n",
    "for _ in range(n_simu):\n",
    "    cards = sample_cards(N, 6, 3)\n",
    "    this_min = np.min(cards)\n",
    "    mins.append(this_min)\n",
    "\n",
    "# plot against theoretical beta distribution\n",
    "fig, ax = plt.subplots(1, 1)\n",
    "sns.histplot(x=mins, bins=np.arange(0.5,400.5,1), stat='density', alpha=0.5, label='Min')\n",
    "ax.plot(np.arange(1,401), beta.pdf(np.arange(1,401), 1, 18, loc=1, scale=N-1), 'r-', lw=3, alpha=0.6, label='beta pdf')\n",
    "plt.legend()\n",
    "plt.show()"
   ]
  },
  {
   "cell_type": "code",
   "execution_count": null,
   "id": "35cba66b-23b9-4df3-a716-50546deff8d7",
   "metadata": {},
   "outputs": [],
   "source": [
    "# Beta, with reposition\n",
    "from scipy.stats import beta\n",
    "import seaborn as sns\n",
    "\n",
    "# sampling the min\n",
    "mins_rep = []\n",
    "n_simu = 10000\n",
    "for _ in range(n_simu):\n",
    "    cards = sample_cards_rep(N, 6, 3)\n",
    "    this_min = np.min(cards)\n",
    "    mins_rep.append(this_min)\n",
    "\n",
    "# plot against theoretical beta distribution\n",
    "fig, ax = plt.subplots(1, 1)\n",
    "sns.histplot(x=mins_rep, bins=np.arange(0.5,400.5,1), stat='density', alpha=0.5, label='Min')\n",
    "ax.plot(np.arange(1,401), beta.pdf(np.arange(1,401), 1, 18, loc=1, scale=N-1), 'r-', lw=3, alpha=0.6, label='beta pdf')\n",
    "plt.legend()\n",
    "plt.show()"
   ]
  },
  {
   "cell_type": "code",
   "execution_count": null,
   "id": "5efae026-95a5-4da6-9e92-ae30936f8e82",
   "metadata": {},
   "outputs": [],
   "source": [
    "# exp, without reposition\n",
    "from scipy.stats import expon\n",
    "\n",
    "# calculate X\n",
    "Xs = -np.log(1-np.array(mins)/N)\n",
    "\n",
    "# plot against theoretical exponential distribution\n",
    "nk = 18\n",
    "fig, ax = plt.subplots(1, 1)\n",
    "sns.histplot(Xs, bins=np.arange(0.005,0.995,0.01), stat='density', alpha=0.5, label='X')\n",
    "ax.plot(np.arange(0.01,1,0.01), expon.pdf(np.arange(0.01,1,0.01), scale=1/nk),'r-', lw=3, alpha=0.6, label='exp pdf')\n",
    "plt.legend()\n",
    "plt.show()"
   ]
  },
  {
   "cell_type": "code",
   "execution_count": null,
   "id": "d5f4f9bc-5925-4302-82d9-2d1162cb6f74",
   "metadata": {},
   "outputs": [],
   "source": [
    "# exp, with reposition\n",
    "from scipy.stats import expon\n",
    "\n",
    "# calculate X\n",
    "Xs = -np.log(1-np.array(mins_rep)/N)\n",
    "\n",
    "# plot against theoretical exponential distribution\n",
    "nk = 18\n",
    "fig, ax = plt.subplots(1, 1)\n",
    "sns.histplot(Xs, bins=np.arange(0.005,0.995,0.01), stat='density', alpha=0.5, label='X')\n",
    "ax.plot(np.arange(0.01,1,0.01), expon.pdf(np.arange(0.01,1,0.01), scale=1/nk),'r-', lw=3, alpha=0.6, label='exp pdf')\n",
    "plt.legend()\n",
    "plt.show()"
   ]
  },
  {
   "cell_type": "markdown",
   "id": "d944ef54-38c2-46dc-a74f-2383625f9021",
   "metadata": {
    "user_expressions": []
   },
   "source": [
    "### Contribution statement\n",
    "\n",
    "Please include a list of the students you work with along this project (including yourself). Include both names and GitHub usernames of the people you collaborated with. Maximum of three persons per group. \n",
    "- Member No1: \n",
    "- Member No2: \n",
    "- Member No3:"
   ]
  }
 ],
 "metadata": {
  "kernelspec": {
   "display_name": "Python 3 (ipykernel)",
   "language": "python",
   "name": "python3"
  },
  "language_info": {
   "codemirror_mode": {
    "name": "ipython",
    "version": 3
   },
   "file_extension": ".py",
   "mimetype": "text/x-python",
   "name": "python",
   "nbconvert_exporter": "python",
   "pygments_lexer": "ipython3",
   "version": "3.9.15"
  }
 },
 "nbformat": 4,
 "nbformat_minor": 5
}
